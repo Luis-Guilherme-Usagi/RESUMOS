{
 "cells": [
  {
   "cell_type": "markdown",
   "metadata": {},
   "source": [
    "# Resumos e exercícios resolvidos para prova"
   ]
  },
  {
   "cell_type": "markdown",
   "metadata": {
    "collapsed": true
   },
   "source": [
    "## Primeiro ano A"
   ]
  },
  {
   "cell_type": "markdown",
   "metadata": {},
   "source": [
    "* [Resultante centrípeta](https://nbviewer.jupyter.org/github/Richard-Vital/RESUMOS/blob/master/Resultante%20Centr%C3%ADpeta%20-%20resumo%20para%20prova%20e%20exemplos.ipynb)"
   ]
  },
  {
   "cell_type": "markdown",
   "metadata": {},
   "source": [
    "* [Trabalho de um força constante](https://nbviewer.jupyter.org/github/Richard-Vital/RESUMOS/blob/master/Trabalho%20de%20uma%20for%C3%A7a%20constante.ipynb)"
   ]
  },
  {
   "cell_type": "markdown",
   "metadata": {},
   "source": [
    "* [Trabalho de um força variável](https://nbviewer.jupyter.org/github/Richard-Vital/RESUMOS/blob/master/Trabalho%20de%20uma%20for%C3%A7a%20vari%C3%A1vel.ipynb)"
   ]
  },
  {
   "cell_type": "markdown",
   "metadata": {},
   "source": [
    "* [Trabalho e variação da energia cinética](https://nbviewer.jupyter.org/github/Richard-Vital/RESUMOS/blob/master/Trabalho%20e%20a%20varia%C3%A7%C3%A3o%20da%20energia%20cin%C3%A9tica.ipynb)"
   ]
  },
  {
   "cell_type": "markdown",
   "metadata": {},
   "source": [
    "* [Energia potencial gravitacional e elástica](https://nbviewer.jupyter.org/github/Richard-Vital/RESUMOS/blob/master/Energia%20potencial%20gravitacional%20e%20el%C3%A1stica.ipynb)"
   ]
  },
  {
   "cell_type": "markdown",
   "metadata": {},
   "source": [
    "* [Energia mecânica e princípio da conservação da energia mecânica de um sistema](https://nbviewer.jupyter.org/github/Richard-Vital/RESUMOS/blob/master/Conserva%C3%A7%C3%A3o%20da%20energia%20mec%C3%A2nica.ipynb)"
   ]
  },
  {
   "cell_type": "markdown",
   "metadata": {},
   "source": [
    "* [Impulso, quantidade de movimento e colisões](https://nbviewer.jupyter.org/github/Richard-Vital/RESUMOS/blob/master/Impulso%2C%20quantidade%20de%20movimento%20e%20colis%C3%B5es.ipynb)"
   ]
  },
  {
   "cell_type": "markdown",
   "metadata": {},
   "source": [
    "# ---"
   ]
  },
  {
   "cell_type": "markdown",
   "metadata": {},
   "source": [
    "# Segundo ano A"
   ]
  },
  {
   "cell_type": "markdown",
   "metadata": {},
   "source": [
    "* [Lentes, Instrumentos ópticos e visão humana](https://nbviewer.jupyter.org/github/Richard-Vital/RESUMOS/blob/master/Lentes%2C%20instrumentos%20%C3%B3pticos%20e%20vis%C3%A3o%20humana.ipynb)"
   ]
  },
  {
   "cell_type": "markdown",
   "metadata": {},
   "source": [
    "* [Geradores](https://nbviewer.jupyter.org/github/Richard-Vital/RESUMOS/blob/master/Geradores.ipynb)"
   ]
  },
  {
   "cell_type": "markdown",
   "metadata": {},
   "source": [
    "# ---"
   ]
  },
  {
   "cell_type": "markdown",
   "metadata": {},
   "source": [
    "# Terceiro ano"
   ]
  },
  {
   "cell_type": "markdown",
   "metadata": {},
   "source": [
    "* [Lentes, Instrumentos ópticos e visão humana](https://nbviewer.jupyter.org/github/Richard-Vital/RESUMOS/blob/master/Lentes%2C%20instrumentos%20%C3%B3pticos%20e%20vis%C3%A3o%20humana.ipynb)"
   ]
  },
  {
   "cell_type": "markdown",
   "metadata": {
    "collapsed": true
   },
   "source": [
    "* [Aplicações das leis de Newton](https://nbviewer.jupyter.org/github/Richard-Vital/RESUMOS/blob/master/Aplica%C3%A7%C3%B5es%20das%20leis%20de%20Newton.ipynb)"
   ]
  },
  {
   "cell_type": "markdown",
   "metadata": {
    "collapsed": true
   },
   "source": [
    "* [Resultante centrípeta](https://nbviewer.jupyter.org/github/Richard-Vital/RESUMOS/blob/master/Resultante%20Centr%C3%ADpeta%20-%20resumo%20para%20prova%20e%20exemplos.ipynb)"
   ]
  },
  {
   "cell_type": "code",
   "execution_count": null,
   "metadata": {
    "collapsed": true
   },
   "outputs": [],
   "source": []
  }
 ],
 "metadata": {
  "anaconda-cloud": {},
  "kernelspec": {
   "display_name": "Python [teste]",
   "language": "python",
   "name": "Python [teste]"
  },
  "language_info": {
   "codemirror_mode": {
    "name": "ipython",
    "version": 3
   },
   "file_extension": ".py",
   "mimetype": "text/x-python",
   "name": "python",
   "nbconvert_exporter": "python",
   "pygments_lexer": "ipython3",
   "version": "3.5.2"
  }
 },
 "nbformat": 4,
 "nbformat_minor": 0
}
