{
 "cells": [
  {
   "cell_type": "markdown",
   "metadata": {},
   "source": [
    "# RESULTANTE CENTRÍPETA"
   ]
  },
  {
   "cell_type": "markdown",
   "metadata": {},
   "source": [
    "A **aceleração centrípeta** responsável pela _mundança de direção do vetor velocidade_ em uma trajetória _curvilínea_ é gerada pela resultante da _soma das forças que agem sobre o corpo em movimento_, essa resultante também denomindada de **resultante centrípeta**, em módulo temos que:"
   ]
  },
  {
   "cell_type": "markdown",
   "metadata": {},
   "source": [
    "<img src=\"resultantecentripeta.png\">"
   ]
  },
  {
   "cell_type": "markdown",
   "metadata": {},
   "source": [
    "$Em\\:que\\:o\\:módulo\\: da\\:$<b style='color:red'>$Resultante\\:centrípeta\\:=\\:massa\\:\\cdot\\:acelereção\\:centrípeta$</b>$, isto\\:é,$\n",
    "\n"
   ]
  },
  {
   "cell_type": "markdown",
   "metadata": {},
   "source": [
    " <b style='color:red'>$$\\Large R_{cp}= m\\cdot a_{cp}$$ </b>"
   ]
  },
  {
   "cell_type": "markdown",
   "metadata": {
    "collapsed": false
   },
   "source": [
    "$E,\\:o\\:módulo\\:da\\:$<b style='color:blue'>$aceleração\\;centrípeta\\:= \\Large \\frac{velocidade\\:ao\\:quadrado}{Raio\\:da\\:trajetória}$,</b>$\\:ou\\:seja,$\n",
    "\n"
   ]
  },
  {
   "cell_type": "markdown",
   "metadata": {},
   "source": [
    " <b style='color:blue'> $$a_{cp}= \\frac{v^2}{R}$$"
   ]
  },
  {
   "cell_type": "markdown",
   "metadata": {},
   "source": [
    "## Analisando alguns fenômenos"
   ]
  },
  {
   "cell_type": "markdown",
   "metadata": {},
   "source": [
    "### Estrada com lombada e depressão"
   ]
  },
  {
   "cell_type": "markdown",
   "metadata": {},
   "source": [
    "<img src=\"estrada lombada.png\">"
   ]
  },
  {
   "cell_type": "markdown",
   "metadata": {},
   "source": [
    "<img src=\"estrada lombada2.png\">"
   ]
  },
  {
   "cell_type": "markdown",
   "metadata": {
    "collapsed": false
   },
   "source": [
    "### Carro fazendo uma curva.\n"
   ]
  },
  {
   "cell_type": "markdown",
   "metadata": {
    "collapsed": true
   },
   "source": [
    "<img src=\"carrofazendocurva.png\">"
   ]
  },
  {
   "cell_type": "markdown",
   "metadata": {},
   "source": [
    "### Globo da Morte"
   ]
  },
  {
   "cell_type": "markdown",
   "metadata": {},
   "source": [
    "<img src=\"glodamorte.png\">"
   ]
  },
  {
   "cell_type": "markdown",
   "metadata": {},
   "source": [
    "## Força centrifuga é causada pela de inércia."
   ]
  },
  {
   "cell_type": "markdown",
   "metadata": {},
   "source": [
    "A força centrifuga é uma força fictícia que só existe para para o corpo em relação ao seu referêncial em rotação é causa pela tendência do corpo se manter em linha reta, isto é, ala é uma força de inércia."
   ]
  },
  {
   "cell_type": "markdown",
   "metadata": {},
   "source": [
    "<img src=\"centrifuga.png\">"
   ]
  },
  {
   "cell_type": "markdown",
   "metadata": {},
   "source": [
    "Em um carro temos a seguinte configuração."
   ]
  },
  {
   "cell_type": "markdown",
   "metadata": {
    "collapsed": true
   },
   "source": [
    "<img src=\"centrifugacarro.png\">"
   ]
  },
  {
   "cell_type": "markdown",
   "metadata": {},
   "source": [
    "O observador dentro do carro sente o seu corpo sendo jogado pela lateral do carro devido a resiteência que o corpo faz para manter a direção retilíne ou a sua velocidade tangencial."
   ]
  }
 ],
 "metadata": {
  "anaconda-cloud": {},
  "kernelspec": {
   "display_name": "Python [teste]",
   "language": "python",
   "name": "Python [teste]"
  },
  "language_info": {
   "codemirror_mode": {
    "name": "ipython",
    "version": 3
   },
   "file_extension": ".py",
   "mimetype": "text/x-python",
   "name": "python",
   "nbconvert_exporter": "python",
   "pygments_lexer": "ipython3",
   "version": "3.5.2"
  }
 },
 "nbformat": 4,
 "nbformat_minor": 0
}
