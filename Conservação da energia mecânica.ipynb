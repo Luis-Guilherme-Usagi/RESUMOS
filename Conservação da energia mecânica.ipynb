{
 "cells": [
  {
   "cell_type": "markdown",
   "metadata": {},
   "source": [
    "# Energia Mecânica"
   ]
  },
  {
   "cell_type": "markdown",
   "metadata": {},
   "source": [
    "A enrgia mecânica é a soma das energias potencias elástica, gravitacional e cinética:"
   ]
  },
  {
   "cell_type": "markdown",
   "metadata": {},
   "source": [
    "$$Energia\\:mecânica\\:=Energia\\:potêncial\\:gravitacional\\:+\\:Energia\\:potencial\\:elástica\\:+Energia\\:cinética$$"
   ]
  },
  {
   "cell_type": "markdown",
   "metadata": {},
   "source": [
    "$ou\\:seja,$"
   ]
  },
  {
   "cell_type": "markdown",
   "metadata": {},
   "source": [
    "$$E_{mec}\\:=m\\cdot g\\cdot h\\:+\\:\\frac{k \\cdot x^2}{2}+\\:\\frac{m \\cdot v^2}{2}$$"
   ]
  },
  {
   "cell_type": "markdown",
   "metadata": {},
   "source": [
    "* A existência ou não de um dessas energias depende do fenômeno analisado.\n",
    "* Perceba que a energia mecãnica de um corpo depende somente da possição e da velocidade do corpo."
   ]
  },
  {
   "cell_type": "markdown",
   "metadata": {},
   "source": [
    "<img src=\"energia14.png\">"
   ]
  },
  {
   "cell_type": "markdown",
   "metadata": {},
   "source": [
    "## Conservação da energia mecânica"
   ]
  },
  {
   "cell_type": "markdown",
   "metadata": {},
   "source": [
    "A energia em um sistema mecânico ideal é sempre a mesma"
   ]
  },
  {
   "cell_type": "markdown",
   "metadata": {},
   "source": [
    "$$Energia\\:mecânica\\:no\\:ponto\\:A\\:=Energia\\:mecânica\\:no\\:ponto\\:B\\:=Energia\\:mecânica\\:no\\:ponto\\:C\\:=\\:constante$$"
   ]
  },
  {
   "cell_type": "markdown",
   "metadata": {},
   "source": [
    "$$ou\\:seja,\\:\\:E_{mecA}\\:=\\:E_{mecB}=\\:E_{mecC}$$"
   ]
  },
  {
   "cell_type": "markdown",
   "metadata": {},
   "source": [
    "* Em um sistema mecânico idela não atuam forças de atrito ou forças dissipativas.\n",
    "* O sistema mecânico ideal só atuam forças conservativas.\n",
    "* Um sistema mecânico ideal também é chamado de sistema conservativo."
   ]
  },
  {
   "cell_type": "markdown",
   "metadata": {},
   "source": [
    "A conservação da energia afirma que a alteração dos valores da posição e da velocidade em um sistema mecânico não altera o valor da energia mecânica do sistema.\n",
    "\n",
    "Em um sistema mecânico a energia potencial se transforma em energia cinética devido a alteração das posições e da velocidade.\n",
    "\n",
    "De um modo mais enfático, uma energia se transforma uma na outra devido as mudanças de posições e velocidades dos corpos envolvidos nos fenômenos analisados e não devido a um fluxo de energia que atravessa os sistema, não existe fluxo de energia."
   ]
  },
  {
   "cell_type": "markdown",
   "metadata": {},
   "source": [
    "# Exercícios"
   ]
  },
  {
   "cell_type": "markdown",
   "metadata": {},
   "source": [
    "<img src=\"energia15.png\">"
   ]
  },
  {
   "cell_type": "markdown",
   "metadata": {},
   "source": [
    "<img src=\"energia16.png\">"
   ]
  },
  {
   "cell_type": "markdown",
   "metadata": {},
   "source": [
    "<img src=\"energia3.png\">"
   ]
  },
  {
   "cell_type": "markdown",
   "metadata": {},
   "source": [
    "<img src=\"energia4.png\">"
   ]
  },
  {
   "cell_type": "markdown",
   "metadata": {},
   "source": [
    "<img src=\"energia5.png\">"
   ]
  },
  {
   "cell_type": "markdown",
   "metadata": {},
   "source": [
    "<img src=\"energia6.png\">"
   ]
  },
  {
   "cell_type": "markdown",
   "metadata": {},
   "source": [
    "<img src=\"energia7.png\">"
   ]
  },
  {
   "cell_type": "code",
   "execution_count": null,
   "metadata": {
    "collapsed": true
   },
   "outputs": [],
   "source": []
  }
 ],
 "metadata": {
  "anaconda-cloud": {},
  "kernelspec": {
   "display_name": "Python [teste]",
   "language": "python",
   "name": "Python [teste]"
  },
  "language_info": {
   "codemirror_mode": {
    "name": "ipython",
    "version": 3
   },
   "file_extension": ".py",
   "mimetype": "text/x-python",
   "name": "python",
   "nbconvert_exporter": "python",
   "pygments_lexer": "ipython3",
   "version": "3.5.2"
  }
 },
 "nbformat": 4,
 "nbformat_minor": 0
}
