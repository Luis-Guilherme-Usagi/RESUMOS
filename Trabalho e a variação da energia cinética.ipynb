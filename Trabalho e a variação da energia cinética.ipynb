{
 "cells": [
  {
   "cell_type": "markdown",
   "metadata": {},
   "source": [
    "# Trabalho e Energia cinética"
   ]
  },
  {
   "cell_type": "markdown",
   "metadata": {},
   "source": [
    "### O trabalho da força resultante é igual a variação da energia cinética"
   ]
  },
  {
   "cell_type": "markdown",
   "metadata": {},
   "source": [
    "A energia cinética de um corpo é calculado usando a equação:"
   ]
  },
  {
   "cell_type": "markdown",
   "metadata": {},
   "source": [
    "$$\\:\\:E_{cin}\\:=\\:\\frac{massa\\:\\cdot\\:velocidade^2}{2}$$"
   ]
  },
  {
   "cell_type": "markdown",
   "metadata": {},
   "source": [
    "Ou seja, a energia cinética só depende da massa e da velocidade do corpo."
   ]
  },
  {
   "cell_type": "markdown",
   "metadata": {},
   "source": [
    "Quando uma força constante é aplicada sobre um corpo ele adquire um movimento uniformemente variado aumentando ou diminuindo a sua velocida.\n",
    "\n",
    "Consequentemente, o trabalho realizado por um força resultante constante alterará a energia cinética do corpo, ou seja:"
   ]
  },
  {
   "cell_type": "markdown",
   "metadata": {},
   "source": [
    "$$Trabalho_{força\\:resultante}\\:=\\:Energia_{cinética\\:final}\\:-\\:Energia_{cinética_inicial}$$\n"
   ]
  },
  {
   "cell_type": "markdown",
   "metadata": {},
   "source": [
    "$$\\tau_{R}\\:=\\:\\Delta E_{c}$$"
   ]
  },
  {
   "cell_type": "markdown",
   "metadata": {},
   "source": [
    "Na animação, a energia cinética inicial é zero quando o corpo sofre a ação de uma força resultante constante adquirindo um movimento uniformente variado.\n",
    "\n",
    "A velocidade do corpo aumenta, consequentemente a energia cinética do corpo aumenta. (Aperte o play no canto esquerdo da imagem)"
   ]
  },
  {
   "cell_type": "code",
   "execution_count": 7,
   "metadata": {
    "collapsed": false
   },
   "outputs": [
    {
     "data": {
      "text/html": [
       "<iframe scrolling=\"no\" src=\"https://www.geogebra.org/material/iframe/id/mqGx6J3n/width/1207/height/440/border/888888/rc/false/ai/false/sdz/false/smb/false/stb/false/stbh/true/ld/false/sri/false/at/auto\" width=\"900x\" height=\"440px\" style=\"border:0px;\"> </iframe>"
      ],
      "text/plain": [
       "<IPython.core.display.HTML object>"
      ]
     },
     "metadata": {},
     "output_type": "display_data"
    }
   ],
   "source": [
    "%%html\n",
    "<iframe scrolling=\"no\" src=\"https://www.geogebra.org/material/iframe/id/mqGx6J3n/width/1207/height/440/border/888888/rc/false/ai/false/sdz/false/smb/false/stb/false/stbh/true/ld/false/sri/false/at/auto\" width=\"900x\" height=\"440px\" style=\"border:0px;\"> </iframe>"
   ]
  },
  {
   "cell_type": "markdown",
   "metadata": {},
   "source": [
    "# Exercícios"
   ]
  },
  {
   "cell_type": "markdown",
   "metadata": {},
   "source": [
    "<img src=\"energia1.png\">"
   ]
  },
  {
   "cell_type": "markdown",
   "metadata": {},
   "source": [
    "<img src=\"energia2.png\">"
   ]
  },
  {
   "cell_type": "code",
   "execution_count": null,
   "metadata": {
    "collapsed": true
   },
   "outputs": [],
   "source": []
  }
 ],
 "metadata": {
  "anaconda-cloud": {},
  "kernelspec": {
   "display_name": "Python [teste]",
   "language": "python",
   "name": "Python [teste]"
  },
  "language_info": {
   "codemirror_mode": {
    "name": "ipython",
    "version": 3
   },
   "file_extension": ".py",
   "mimetype": "text/x-python",
   "name": "python",
   "nbconvert_exporter": "python",
   "pygments_lexer": "ipython3",
   "version": "3.5.2"
  }
 },
 "nbformat": 4,
 "nbformat_minor": 0
}
